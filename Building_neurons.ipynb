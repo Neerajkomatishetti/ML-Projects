{
 "cells": [
  {
   "cell_type": "markdown",
   "metadata": {},
   "source": [
    "Learning to build and understand neural networks using \"grokking deep learning book\" by Andrew W.Trask"
   ]
  },
  {
   "cell_type": "markdown",
   "metadata": {},
   "source": [
    "### Neural Network with multiple inputs\n"
   ]
  },
  {
   "cell_type": "code",
   "execution_count": 2,
   "metadata": {},
   "outputs": [],
   "source": [
    "toes = [8.5, 9.5, 9.9, 9.0]     \n",
    "wlrec = [0.65, 0.8, 0.8, 0.9]    \n",
    "nfans = [1.2, 1.3, 0.5, 1.0] \n",
    "\n",
    "inputs = [toes[0], wlrec[0], nfans[0]]\n"
   ]
  },
  {
   "cell_type": "code",
   "execution_count": 3,
   "metadata": {},
   "outputs": [],
   "source": [
    "def w_sum(a, b):\n",
    "    assert(len(a) == len(b)) #Asserts that the two lists are of the same length otherwise raise an error\n",
    "    output = 0\n",
    "    for i in range(len(a)):\n",
    "        output += a[i] * b[i]\n",
    "    return output"
   ]
  },
  {
   "cell_type": "code",
   "execution_count": 4,
   "metadata": {},
   "outputs": [
    {
     "name": "stdout",
     "output_type": "stream",
     "text": [
      "Prediction:0.9800000000000001\n"
     ]
    }
   ],
   "source": [
    "weights = [0.1, 0.2, 0]\n",
    "\n",
    "#neural with multiple inputs\n",
    "def neural_network(input, weights):\n",
    "    pred = w_sum(input, weights)\n",
    "    return f\"Prediction:{pred}\"\n",
    "\n",
    "pred = neural_network(inputs, weights)\n",
    "print(pred)"
   ]
  },
  {
   "cell_type": "markdown",
   "metadata": {},
   "source": [
    "### Challenge Vector math\n",
    "\n",
    "Being able to manipulate vectors is a cornerstone technique for deep learning. See if you can \n",
    "write functions that perform the following \n",
    "#### operations: \n",
    "* def elementwise_multiplication(vec_a, vec_b)\n",
    "* def elementwise_addition(vec_a, vec_b) \n",
    "* def vector_sum(vec_a)\n",
    "* def vector_average(vec_a)\n",
    "\n",
    "Then, see if you can use two of these methods to perform a dot product!"
   ]
  },
  {
   "cell_type": "code",
   "execution_count": 5,
   "metadata": {},
   "outputs": [
    {
     "name": "stdout",
     "output_type": "stream",
     "text": [
      "Elementwise Multiplication: [4, 10, 18]\n",
      "Elementwise Addition: [5, 7, 9]\n",
      "Vector Sum: 6\n",
      "Vector Average: 2.0\n"
     ]
    }
   ],
   "source": [
    "def elementwise_multiplication(vec_a, vec_b):\n",
    "    assert(len(vec_a) == len(vec_b))\n",
    "    output = []\n",
    "    for i in range(len(vec_a)):\n",
    "        output.append(vec_a[i] * vec_b[i])\n",
    "    return output\n",
    "\n",
    "def elementwise_addition(vec_a, vec_b):\n",
    "    assert(len(vec_a) == len(vec_b))\n",
    "    output = []\n",
    "    for i in range(len(vec_a)):\n",
    "        output.append(vec_a[i] + vec_b[i])\n",
    "    return output\n",
    "\n",
    "def vector_sum(vec_a):\n",
    "    output = 0\n",
    "    for i in range(len(vec_a)):\n",
    "        output += vec_a[i]\n",
    "    return output\n",
    "\n",
    "def vector_average(vec_a):\n",
    "    output = 0\n",
    "    for i in range(len(vec_a)):\n",
    "        output += vec_a[i]\n",
    "    return output / len(vec_a)\n",
    "\n",
    "V_elementwise_multiplication = elementwise_multiplication([1, 2, 3], [4, 5, 6])\n",
    "V_elementwise_addition = elementwise_addition([1, 2, 3], [4, 5, 6])\n",
    "V_vector_sum = vector_sum([1, 2, 3])\n",
    "V_vector_average = vector_average([1, 2, 3])\n",
    "\n",
    "print(f\"Elementwise Multiplication: {V_elementwise_multiplication}\")\n",
    "print(f\"Elementwise Addition: {V_elementwise_addition}\")\n",
    "print(f\"Vector Sum: {V_vector_sum}\")\n",
    "print(f\"Vector Average: {V_vector_average}\")"
   ]
  },
  {
   "cell_type": "markdown",
   "metadata": {},
   "source": [
    "### With Numpy"
   ]
  },
  {
   "cell_type": "code",
   "execution_count": 6,
   "metadata": {},
   "outputs": [
    {
     "name": "stdout",
     "output_type": "stream",
     "text": [
      "Prediction: 0.9800000000000001\n"
     ]
    }
   ],
   "source": [
    "\n",
    "import numpy as np\n",
    "\n",
    "weights = np.array([0.1, 0.2, 0])\n",
    "toes = np.array([8.5, 9.5, 9.9, 9.0])     \n",
    "wlrec = np.array([0.65, 0.8, 0.8, 0.9])    \n",
    "nfans = np.array([1.2, 1.3, 0.5, 1.0]) \n",
    "\n",
    "inputs = np.array([toes[0], wlrec[0], nfans[0]])\n",
    "\n",
    "def neural_network2(input, weights):\n",
    "    pred = np.dot(input, weights)\n",
    "    return pred\n",
    "\n",
    "pred = neural_network2(inputs, weights)\n",
    "print(f\"Prediction: {pred}\")"
   ]
  },
  {
   "cell_type": "markdown",
   "metadata": {},
   "source": [
    "## Neural network with multiple inputs and multiple outputs"
   ]
  },
  {
   "cell_type": "code",
   "execution_count": 7,
   "metadata": {},
   "outputs": [],
   "source": [
    "weights_MIO = np.array([ [0.1, 0.1, -0.3], #MIO - Multiple inputs and outputs\n",
    " [0.1, 0.2, 0.0], \n",
    " [0.0, 1.3, 0.1] ])\n",
    "\n",
    "toes = np.array([8.5, 9.5, 9.9, 9.0])\n",
    "wlrec = np.array([0.65, 0.8, 0.8, 0.9])\n",
    "nfans = np.array([1.2, 1.3, 0.5, 1.0])\n",
    "\n",
    "inputs = np.array([toes[0], wlrec[0], nfans[0]])\n",
    "\n",
    "def vector_matrix_multiplication(vec, matrix):\n",
    "    assert(len(vec) == len(matrix))\n",
    "    output = np.zeros(len(vec))\n",
    "    for i in range(len(vec)):\n",
    "        output[i] = np.dot(vec, matrix[i])\n",
    "    return output\n"
   ]
  },
  {
   "cell_type": "markdown",
   "metadata": {},
   "source": [
    "#### Implementing some Scaler funcions , just for fun!"
   ]
  },
  {
   "cell_type": "code",
   "execution_count": 8,
   "metadata": {},
   "outputs": [],
   "source": [
    "# def minMaxScaler(Vect):\n",
    "#     for i in range(len(Vect)):\n",
    "#         Vect[i] = Vect[i] / max(Vect)\n",
    "#     return Vect\n",
    "\n",
    "# l = [1, 2, 40, 56, 78, 84, 100] \n",
    "# print(minMaxScalar(l))"
   ]
  },
  {
   "cell_type": "code",
   "execution_count": 9,
   "metadata": {},
   "outputs": [],
   "source": [
    "# def zero_to_Hundred_Scaler(Vect): # i think this is not the correct scaler fo this but i am curious\n",
    "#     summ = sum(Vect)\n",
    "#     for i in range(len(Vect)):\n",
    "#         Vect[i] = Vect[i] / summ\n",
    "    \n",
    "#     return Vect"
   ]
  },
  {
   "cell_type": "code",
   "execution_count": 11,
   "metadata": {},
   "outputs": [
    {
     "name": "stdout",
     "output_type": "stream",
     "text": [
      "Prediction: {'hurt': 55.50000000000001, 'win': 98.00000000000001, 'sad': 96.50000000000001}\n"
     ]
    }
   ],
   "source": [
    "def neural_network_MIO(input, weights):\n",
    "    pred = vector_matrix_multiplication(input, weights)\n",
    "    return pred\n",
    "pred = neural_network_MIO(inputs, weights_MIO)\n",
    "\n",
    "output_labels = [\"hurt\", \"win\", \"sad\"]\n",
    "\n",
    "for i in range(len(pred)):\n",
    "    pred[i] = pred[i]*100\n",
    "\n",
    "result = dict(zip(output_labels, pred))\n",
    "\n",
    "clean_prediction = {key: float(value) for key, value in result.items()}\n",
    "\n",
    "print(f\"Prediction: {clean_prediction}\")"
   ]
  },
  {
   "cell_type": "markdown",
   "metadata": {},
   "source": [
    "### Neural networks with Hidden layers"
   ]
  },
  {
   "cell_type": "code",
   "execution_count": 12,
   "metadata": {},
   "outputs": [],
   "source": [
    "# toes % win # fans\n",
    "ih_wgt = np.array([ \n",
    "            [0.1, 0.2, -0.1], # hid[0]\n",
    "            [-0.1,0.1, 0.9], # hid[1]\n",
    "            [0.1, 0.4, 0.1]]).T # hid[2]\n",
    "\n",
    "# hid[0] hid[1] hid[2]\n",
    "hp_wgt = np.array([  \n",
    "            [0.3, 1.1, -0.3], # hurt?\n",
    "            [0.1, 0.2, 0.0], # win?\n",
    "            [0.0, 1.3, 0.1] ]).T # sad?\n",
    "\n",
    "weights = [ih_wgt, hp_wgt]\n",
    "\n",
    "toes =  np.array([8.5, 9.5, 9.9, 9.0])\n",
    "wlrec = np.array([0.65,0.8, 0.8, 0.9])\n",
    "nfans = np.array([1.2, 1.3, 0.5, 1.0])\n",
    "\n",
    "input = np.array([toes[0],wlrec[0],nfans[0]])"
   ]
  },
  {
   "cell_type": "code",
   "execution_count": 13,
   "metadata": {},
   "outputs": [
    {
     "name": "stdout",
     "output_type": "stream",
     "text": [
      "Hidden Layer: [0.86  0.295 1.23 ]\n",
      "Prediction: [0.2135 0.145  0.5065]\n",
      "Prediction: {'hurt': 21.349999999999998, 'win': 14.500000000000002, 'sad': 50.64999999999999}\n"
     ]
    }
   ],
   "source": [
    "def neural_network_wh(input, weights): # wh - with hidden layer\n",
    "    hid = input.dot(weights[0]) # (8.5 x 0.1) + (0.65 x 0.2) + (1.2 x -0.1) -> hid[0]\n",
    "    print(f\"Hidden Layer: {hid}\")\n",
    "\n",
    "    pred = hid.dot(weights[1])\n",
    "    print(f\"Prediction: {pred}\")\n",
    "\n",
    "    return pred\n",
    "pred = neural_network_wh(inputs, weights)\n",
    "\n",
    "output_labels = [\"hurt\", \"win\", \"sad\"]\n",
    "\n",
    "for i in range(len(pred)):\n",
    "    pred[i] = pred[i]*100\n",
    "\n",
    "result = dict(zip(output_labels, pred))\n",
    "\n",
    "clean_prediction = {key: float(value) for key, value in result.items()}\n",
    "\n",
    "print(f\"Prediction: {clean_prediction}\")"
   ]
  },
  {
   "cell_type": "markdown",
   "metadata": {},
   "source": [
    "#### Gradient Descent"
   ]
  },
  {
   "cell_type": "code",
   "execution_count": 53,
   "metadata": {},
   "outputs": [],
   "source": [
    "def gradient_descent(input, weights, goal_pred):\n",
    "    alpha = 0.1\n",
    "    pred = input*weights\n",
    "    error = (pred - goal_pred) ** 2\n",
    "    delta = pred - goal_pred\n",
    "    weights_delta = delta * input\n",
    "    weights -= alpha*weights_delta\n",
    "    return weights, error"
   ]
  },
  {
   "cell_type": "code",
   "execution_count": 59,
   "metadata": {},
   "outputs": [
    {
     "name": "stdout",
     "output_type": "stream",
     "text": [
      "Error: [0.04] Prediction: 0.92\n",
      "Error: [0.0144] Prediction: 0.872\n",
      "Error: [0.005184] Prediction: 0.8432000000000001\n",
      "Error: [0.00186624] Prediction: 0.8259200000000001\n",
      "Error: [0.00067185] Prediction: 0.815552\n",
      "Error: [0.00024186] Prediction: 0.8093312\n",
      "Error: [8.70712934e-05] Prediction: 0.80559872\n",
      "Error: [3.13456656e-05] Prediction: 0.803359232\n",
      "Error: [1.12844396e-05] Prediction: 0.8020155392\n",
      "Error: [4.06239827e-06] Prediction: 0.8012093235200001\n",
      "Error: [1.46246338e-06] Prediction: 0.8007255941120001\n",
      "Error: [5.26486815e-07] Prediction: 0.8004353564672001\n",
      "Error: [1.89535254e-07] Prediction: 0.8002612138803201\n",
      "Error: [6.82326913e-08] Prediction: 0.8001567283281921\n",
      "Error: [2.45637689e-08] Prediction: 0.8000940369969153\n",
      "Error: [8.84295679e-09] Prediction: 0.8000564221981492\n",
      "Error: [3.18346444e-09] Prediction: 0.8000338533188895\n",
      "Error: [1.1460472e-09] Prediction: 0.8000203119913337\n",
      "Error: [4.12576992e-10] Prediction: 0.8000121871948003\n",
      "Error: [1.48527717e-10] Prediction: 0.8000073123168802\n",
      "Trained Weights: [0.40000366]\n"
     ]
    }
   ],
   "source": [
    "input = np.array([2])\n",
    "weights = np.array([0.5])\n",
    "goal_pred = np.array([0.8])\n",
    "\n",
    "def fit(input, weights, goal_pred, epochs):\n",
    "    for epoch in range(epochs):\n",
    "        weights, error = gradient_descent(input, weights, goal_pred)\n",
    "        print(f\"Error: {error} Prediction: {input.dot(weights)}\")\n",
    "    return weights\n",
    "\n",
    "weights_trained = fit(input, weights, goal_pred, 20)\n",
    "print(f\"Trained Weights: {weights_trained}\")"
   ]
  },
  {
   "cell_type": "code",
   "execution_count": null,
   "metadata": {},
   "outputs": [],
   "source": [
    "for i in range(len(pred)):\n",
    "    pred[i] = pred[i]*100"
   ]
  }
 ],
 "metadata": {
  "kernelspec": {
   "display_name": "venv",
   "language": "python",
   "name": "python3"
  },
  "language_info": {
   "codemirror_mode": {
    "name": "ipython",
    "version": 3
   },
   "file_extension": ".py",
   "mimetype": "text/x-python",
   "name": "python",
   "nbconvert_exporter": "python",
   "pygments_lexer": "ipython3",
   "version": "3.12.7"
  }
 },
 "nbformat": 4,
 "nbformat_minor": 2
}
