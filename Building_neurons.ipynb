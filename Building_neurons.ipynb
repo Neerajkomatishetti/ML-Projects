{
 "cells": [
  {
   "cell_type": "markdown",
   "metadata": {},
   "source": [
    "Learning to build and understand neural networks using \"grokking deep learning book\" by Andrew W.Trask"
   ]
  },
  {
   "cell_type": "markdown",
   "metadata": {},
   "source": [
    "### Neural Network with multiple inputs\n"
   ]
  },
  {
   "cell_type": "code",
   "execution_count": 9,
   "metadata": {},
   "outputs": [],
   "source": [
    "toes = [8.5, 9.5, 9.9, 9.0]     \n",
    "wlrec = [0.65, 0.8, 0.8, 0.9]    \n",
    "nfans = [1.2, 1.3, 0.5, 1.0] \n",
    "\n",
    "inputs = [toes[0], wlrec[0], nfans[0]]\n"
   ]
  },
  {
   "cell_type": "code",
   "execution_count": 10,
   "metadata": {},
   "outputs": [],
   "source": [
    "def w_sum(a, b):\n",
    "    assert(len(a) == len(b)) #Asserts that the two lists are of the same length otherwise raise an error\n",
    "    output = 0\n",
    "    for i in range(len(a)):\n",
    "        output += a[i] * b[i]\n",
    "    return output"
   ]
  },
  {
   "cell_type": "code",
   "execution_count": 11,
   "metadata": {},
   "outputs": [
    {
     "name": "stdout",
     "output_type": "stream",
     "text": [
      "Prediction:0.9800000000000001\n"
     ]
    }
   ],
   "source": [
    "weights = [0.1, 0.2, 0]\n",
    "\n",
    "#neural with multiple inputs\n",
    "def neural_network(input, weights):\n",
    "    pred = w_sum(input, weights)\n",
    "    return f\"Prediction:{pred}\"\n",
    "\n",
    "pred = neural_network(inputs, weights)\n",
    "print(pred)"
   ]
  },
  {
   "cell_type": "markdown",
   "metadata": {},
   "source": [
    "### Challenge Vector math\n",
    "\n",
    "Being able to manipulate vectors is a cornerstone technique for deep learning. See if you can \n",
    "write functions that perform the following \n",
    "#### operations: \n",
    "* def elementwise_multiplication(vec_a, vec_b)\n",
    "* def elementwise_addition(vec_a, vec_b) \n",
    "* def vector_sum(vec_a)\n",
    "* def vector_average(vec_a)\n",
    "\n",
    "Then, see if you can use two of these methods to perform a dot product!"
   ]
  },
  {
   "cell_type": "code",
   "execution_count": 13,
   "metadata": {},
   "outputs": [
    {
     "name": "stdout",
     "output_type": "stream",
     "text": [
      "Elementwise Multiplication: [4, 10, 18]\n",
      "Elementwise Addition: [5, 7, 9]\n",
      "Vector Sum: 6\n",
      "Vector Average: 2.0\n"
     ]
    }
   ],
   "source": [
    "def elementwise_multiplication(vec_a, vec_b):\n",
    "    assert(len(vec_a) == len(vec_b))\n",
    "    output = []\n",
    "    for i in range(len(vec_a)):\n",
    "        output.append(vec_a[i] * vec_b[i])\n",
    "    return output\n",
    "\n",
    "def elementwise_addition(vec_a, vec_b):\n",
    "    assert(len(vec_a) == len(vec_b))\n",
    "    output = []\n",
    "    for i in range(len(vec_a)):\n",
    "        output.append(vec_a[i] + vec_b[i])\n",
    "    return output\n",
    "\n",
    "def vector_sum(vec_a):\n",
    "    output = 0\n",
    "    for i in range(len(vec_a)):\n",
    "        output += vec_a[i]\n",
    "    return output\n",
    "\n",
    "def vector_average(vec_a):\n",
    "    output = 0\n",
    "    for i in range(len(vec_a)):\n",
    "        output += vec_a[i]\n",
    "    return output / len(vec_a)\n",
    "\n",
    "V_elementwise_multiplication = elementwise_multiplication([1, 2, 3], [4, 5, 6])\n",
    "V_elementwise_addition = elementwise_addition([1, 2, 3], [4, 5, 6])\n",
    "V_vector_sum = vector_sum([1, 2, 3])\n",
    "V_vector_average = vector_average([1, 2, 3])\n",
    "\n",
    "print(f\"Elementwise Multiplication: {V_elementwise_multiplication}\")\n",
    "print(f\"Elementwise Addition: {V_elementwise_addition}\")\n",
    "print(f\"Vector Sum: {V_vector_sum}\")\n",
    "print(f\"Vector Average: {V_vector_average}\")"
   ]
  },
  {
   "cell_type": "markdown",
   "metadata": {},
   "source": [
    "### With Numpy"
   ]
  },
  {
   "cell_type": "code",
   "execution_count": 1,
   "metadata": {},
   "outputs": [
    {
     "name": "stdout",
     "output_type": "stream",
     "text": [
      "Prediction: 0.9800000000000001\n"
     ]
    }
   ],
   "source": [
    "\n",
    "import numpy as np\n",
    "\n",
    "weights = np.array([0.1, 0.2, 0])\n",
    "toes = np.array([8.5, 9.5, 9.9, 9.0])     \n",
    "wlrec = np.array([0.65, 0.8, 0.8, 0.9])    \n",
    "nfans = np.array([1.2, 1.3, 0.5, 1.0]) \n",
    "\n",
    "inputs = np.array([toes[0], wlrec[0], nfans[0]])\n",
    "\n",
    "def neural_network2(input, weights):\n",
    "    pred = np.dot(input, weights)\n",
    "    return pred\n",
    "\n",
    "pred = neural_network2(inputs, weights)\n",
    "print(f\"Prediction: {pred}\")"
   ]
  },
  {
   "cell_type": "markdown",
   "metadata": {},
   "source": [
    "## Neural network with multiple inputs and multiple outputs"
   ]
  },
  {
   "cell_type": "code",
   "execution_count": 3,
   "metadata": {},
   "outputs": [],
   "source": [
    "weights_MIO = np.array([ [0.1, 0.1, -0.3], #MIO - Multiple inputs and outputs\n",
    " [0.1, 0.2, 0.0], \n",
    " [0.0, 1.3, 0.1] ])\n",
    "\n",
    "toes = np.array([8.5, 9.5, 9.9, 9.0])\n",
    "wlrec = np.array([0.65, 0.8, 0.8, 0.9])\n",
    "nfans = np.array([1.2, 1.3, 0.5, 1.0])\n",
    "\n",
    "inputs = np.array([toes[0], wlrec[0], nfans[0]])\n",
    "\n",
    "def vector_matrix_multiplication(vec, matrix):\n",
    "    assert(len(vec) == len(matrix))\n",
    "    output = np.zeros(len(vec))\n",
    "    for i in range(len(vec)):\n",
    "        output[i] = np.dot(vec, matrix[i])\n",
    "    return output\n"
   ]
  },
  {
   "cell_type": "code",
   "execution_count": null,
   "metadata": {},
   "outputs": [
    {
     "name": "stdout",
     "output_type": "stream",
     "text": [
      "[0.01, 0.02, 0.4, 0.56, 0.78, 0.84, 1.0]\n"
     ]
    }
   ],
   "source": [
    "# def minMaxScaler(Vect):\n",
    "#     for i in range(len(Vect)):\n",
    "#         Vect[i] = Vect[i] / max(Vect)\n",
    "#     return Vect\n",
    "\n",
    "# l = [1, 2, 40, 56, 78, 84, 100] \n",
    "# print(minMaxScalar(l))"
   ]
  },
  {
   "cell_type": "markdown",
   "metadata": {},
   "source": [
    "#### Let's just say overall output should be 100% when added\n",
    "#### I don't know name  of this scalerr yet! i will search for it late\n"
   ]
  },
  {
   "cell_type": "code",
   "execution_count": null,
   "metadata": {},
   "outputs": [],
   "source": [
    "# def zero_to_Hundred_Scaler(Vect): # i think this is not the correct scaler fo this but i am curious\n",
    "#     summ = sum(Vect)\n",
    "#     for i in range(len(Vect)):\n",
    "#         Vect[i] = Vect[i] / summ\n",
    "    \n",
    "#     return Vect"
   ]
  },
  {
   "cell_type": "code",
   "execution_count": 30,
   "metadata": {},
   "outputs": [
    {
     "name": "stdout",
     "output_type": "stream",
     "text": [
      "Prediction: {'hurt': 55.50000000000001, 'win': 98.00000000000001, 'sad': 96.50000000000001}\n"
     ]
    }
   ],
   "source": [
    "def neural_network3(input, weights):\n",
    "    pred = vector_matrix_multiplication(input, weights)\n",
    "    return pred\n",
    "pred = neural_network3(inputs, weights_MIO)\n",
    "\n",
    "output_labels = [\"hurt\", \"win\", \"sad\"]\n",
    "\n",
    "#pred = minMaxScaler(pred)\n",
    "#pred = zero_to_Hundred_Scaler(pred) Prediction: {'hurt': 22.200000000000003, 'win': 39.2, 'sad': 38.6}\n",
    "\n",
    "for i in range(len(pred)):\n",
    "    pred[i] = pred[i]*100\n",
    "\n",
    "result = dict(zip(output_labels, pred))\n",
    "\n",
    "clean_prediction = {key: float(value) for key, value in result.items()}\n",
    "\n",
    "print(f\"Prediction: {clean_prediction}\")"
   ]
  },
  {
   "cell_type": "code",
   "execution_count": null,
   "metadata": {},
   "outputs": [],
   "source": []
  }
 ],
 "metadata": {
  "kernelspec": {
   "display_name": "venv",
   "language": "python",
   "name": "python3"
  },
  "language_info": {
   "codemirror_mode": {
    "name": "ipython",
    "version": 3
   },
   "file_extension": ".py",
   "mimetype": "text/x-python",
   "name": "python",
   "nbconvert_exporter": "python",
   "pygments_lexer": "ipython3",
   "version": "3.12.7"
  }
 },
 "nbformat": 4,
 "nbformat_minor": 2
}
